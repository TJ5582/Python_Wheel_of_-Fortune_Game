{
 "cells": [
  {
   "cell_type": "code",
   "execution_count": 1,
   "metadata": {
    "scrolled": true
   },
   "outputs": [],
   "source": [
    "#%%#\n",
    "import pandas as pd\n",
    "import numpy as np\n",
    "\n",
    "class Players:\n",
    "   \n",
    "    word=\"\"\n",
    "    value=[]\n",
    "    name=\"\"\n",
    "    score=0\n",
    "    guess=[]\n",
    "    choice=\"\"\n",
    "    in_word=''\n",
    "    disp=list()\n",
    "    \n",
    "    def puzzle_start(self):\n",
    "        print()\n",
    "        (\"==========================\")\n",
    "        print(\"Player: \" +self.name+ \"        Score: \" +str(self.score))\n",
    "        print()\n",
    "        print(\"Would you like to:\")\n",
    "        print(\"1 Spin\")\n",
    "        print(\"2 Solve\")\n",
    "        self.choice = input('Enter 1 for Spin or 2 for Solve: ')\n",
    "        self.chk_choice()\n",
    "        print()\n",
    "        print(*self.disp)\n",
    "        return\n",
    "    \n",
    "    def chk_choice(self):\n",
    "        if self.choice == '1' or self.choice == '2':\n",
    "            if self.choice == '1':\n",
    "                print(\"You choosed : Spin\")\n",
    "                print()\n",
    "                self.spin()\n",
    "            else:\n",
    "                print(\"You choosed : Solve\")\n",
    "                self.solve()\n",
    "                             \n",
    "        elif self.choice !='1' and self.choice != '2':\n",
    "                self.choice = input('Wrong Input!! Enter 1 for Spin or 2 for Solve: ')\n",
    "                self.chk_choice()\n",
    "        else:\n",
    "            return\n",
    "\n",
    "    \n",
    "    def spin(self):\n",
    "        i=0\n",
    "        val = random.choice(self.value)\n",
    "        print()\n",
    "        print(\"Spin Value = $\"+str(val))\n",
    "        while (val != -1 and val != -2) and (self.disp.count('_') != 0):\n",
    "            print(\"Your score = $\"+str(self.score))\n",
    "            print(\"Count of _ is \"+str(self.disp.count('_')))\n",
    "            print()\n",
    "            self.in_word = input(\"Guess a letter: \")\n",
    "            self.in_word = self.in_word.lower()\n",
    "            print(self.in_word)\n",
    "            if self.in_word in self.guess:\n",
    "                print(\"Already Guessed!!! You loose your Turn\")\n",
    "                print(\"YOUR SCORE $\"+str(self.score)+\"!!!\")\n",
    "                break\n",
    "            self.guess.append(self.in_word)\n",
    "            print(self.guess)\n",
    "            times=self.chk_input()\n",
    "            self.score += (val*times)\n",
    "            if (times == 0 or self.disp.count('_') == 0):\n",
    "                break\n",
    "            val = random.choice(self.value)\n",
    "            print()\n",
    "            print(\"Spin Value = $\"+str(val))\n",
    "            print(\"===================\")\n",
    "            \n",
    "        if (val == -1):\n",
    "            print()\n",
    "            print(\"AHHHH!!! BANKRUPT!\")\n",
    "            print(\"YOU LOOSE YOUR TURN! YOUR SCORE RE-SET TO ZERO!!!\")\n",
    "            self.score=0\n",
    "            print(self.score)\n",
    "            print(\"===================\")\n",
    "            print(\"YOUR SCORE: $\"+str(self.score))\n",
    "        elif (val == -2):\n",
    "            print()\n",
    "            print(\"SORRY! YOU LOOSE YOUR TURN!\")\n",
    "            print(\"===================\")\n",
    "            print(\"YOUR SCORE: $\"+str(self.score)+\"!!!\")\n",
    "        elif self.disp.count('_') == 0:\n",
    "            print()\n",
    "            print(\"CONGRATULATIONS \"+self.name+\"!!!!\")\n",
    "            print(\"YOU GUESSED THE PUZZLE CORRECTLY!!!  YOU WON!!!\")\n",
    "            print(\"===================\")\n",
    "            print(\"YOUR FINAL SCORE: $\"+str(self.score)+\"!!!\")\n",
    "\n",
    "        else:\n",
    "            return\n",
    "                  \n",
    "\n",
    "\n",
    "    def chk_input(self):\n",
    "        print(\"In chk_input \"+self.in_word)\n",
    "\n",
    "        if self.in_word in self.word:\n",
    "            print(\"CORRECT GUESS!!!\")\n",
    "            self.display_str()\n",
    "            print(self.in_word + \" is there in \" + self.word + \" \"+ str(self.word.count(self.in_word))+\" times\")\n",
    "            return (self.word.count(self.in_word))\n",
    "        else:\n",
    "            print(\"SADLY!! IN-CORRECT GUESS!!!\")\n",
    "            print(\"YOU LOOSE YOUR TURN!!!\")\n",
    "            print(\"YOUR SCORE: $\"+str(self.score)+\"!!!\")\n",
    "            return 0\n",
    "        \n",
    "\n",
    "    def display_str(self):\n",
    "        print(\"In display_str \"+str(self.guess))\n",
    "        disp_arr = np.asarray(self.disp)\n",
    "        word_arr = np.asarray(list(self.word))\n",
    "        for i in self.guess:\n",
    "            c=0\n",
    "            while (c < len(disp_arr)):\n",
    "                if (i == word_arr[c]):\n",
    "                    disp_arr[c] = word_arr[c]\n",
    "                c=c+1\n",
    "        print()\n",
    "        print(*disp_arr.tolist())            \n",
    "        self.disp = disp_arr.tolist()\n",
    "        return\n",
    "        \n",
    "    def solve(self):\n",
    "        self.display_str()\n",
    "        print(\"Guess the remaining \"+str(self.disp.count('_'))+\" letters!!!\")\n",
    "        self.in_word = input(\"Guess the word: \")\n",
    "        if (self.in_word.lower() == self.word.lower()):\n",
    "            print(\"CORRECT GUESS!\")\n",
    "            self.score += ((self.disp.count('_'))*1000)\n",
    "            print(\"YOUR SCORE: $\"+str(self.score)+\"!!!\")\n",
    "            self.disp = self.word\n",
    "        else:\n",
    "            print(\"IN-CORRECT GUESS!\")\n",
    "            print(\"YOU LOOSE YOUR TURN!\")\n",
    "            print(\"YOUR SCORE: $\"+str(self.score)+\"!!!\")\n",
    "       \n",
    "        \n",
    "        \n",
    "    def show_underscore(self):\n",
    "        i=0\n",
    "        for x in self.word:\n",
    "            if (x == \" \"):\n",
    "                self.disp.append(x)\n",
    "            else:\n",
    "                self.disp.append(\"_\")\n",
    "            i=i+1\n",
    "        print(*self.disp)\n",
    "        return\n",
    "\n",
    "\n",
    "def random_puzzle(puzzles):\n",
    "    return random.choice(puzzles)\n",
    "\n",
    "def end_game():\n",
    "    print(\"GAME ENDS!!! WORD GUESSED CORRECTLY!!\")\n",
    "    print(\"HERE ARE THE SCORES:\")\n",
    "    print(\"==========================================\")\n",
    "    print(player1.name+\" SCORE = $\"+str(player1.score))\n",
    "    print(player2.name+\" SCORE = $\"+str(player2.score))\n",
    "    print(player3.name+\" SCORE = $\"+str(player3.score))\n",
    "    print(\"==========================================\")\n",
    "    return\n"
   ]
  },
  {
   "cell_type": "code",
   "execution_count": 2,
   "metadata": {
    "scrolled": true
   },
   "outputs": [
    {
     "name": "stdout",
     "output_type": "stream",
     "text": [
      "[5000, 500, 900, 700, 300, 800, 550, 400, 500, 600, 350, 500, 900, -1, 650, 700, -2, 800, 500, 450, 500, 300, -1]\n"
     ]
    }
   ],
   "source": [
    "game_values = pd.read_csv('D:\\Game Challenge\\wheel_values.txt',header = None)\n",
    "game_values = game_values.iloc[:, 0].tolist()\n",
    "print(game_values)"
   ]
  },
  {
   "cell_type": "code",
   "execution_count": 3,
   "metadata": {
    "scrolled": true
   },
   "outputs": [
    {
     "name": "stdout",
     "output_type": "stream",
     "text": [
      "['A Pile Of Coats', 'A Vase Of Flowers', 'Academic Scholarship', 'Buying Textbooks', 'A Damsel In Distress']\n"
     ]
    }
   ],
   "source": [
    "puzzles = pd.read_csv('D:\\Game Challenge\\wheel_puzzles.txt',header = None)\n",
    "puzzles = puzzles.iloc[:, 0].tolist()\n",
    "print(puzzles)"
   ]
  },
  {
   "cell_type": "code",
   "execution_count": 4,
   "metadata": {
    "scrolled": true
   },
   "outputs": [
    {
     "name": "stdout",
     "output_type": "stream",
     "text": [
      "A Pile Of Coats\n"
     ]
    },
    {
     "data": {
      "text/plain": [
       "str"
      ]
     },
     "execution_count": 4,
     "metadata": {},
     "output_type": "execute_result"
    }
   ],
   "source": [
    "import random\n",
    "word = random_puzzle(puzzles)\n",
    "print(word)\n",
    "type(word)"
   ]
  },
  {
   "cell_type": "code",
   "execution_count": 5,
   "metadata": {
    "scrolled": true
   },
   "outputs": [],
   "source": [
    "player1 = Players()\n",
    "player2 = Players()\n",
    "player3 = Players()"
   ]
  },
  {
   "cell_type": "code",
   "execution_count": 6,
   "metadata": {
    "scrolled": true
   },
   "outputs": [
    {
     "name": "stdout",
     "output_type": "stream",
     "text": [
      "A Pile Of Coats\n",
      "a pile of coats\n"
     ]
    }
   ],
   "source": [
    "player1.word = player2.word = player3.word = word.lower()\n",
    "player1.value = player2.value = player3.value = game_values\n",
    "print(word)\n",
    "print(player1.word)"
   ]
  },
  {
   "cell_type": "code",
   "execution_count": 7,
   "metadata": {
    "scrolled": true
   },
   "outputs": [
    {
     "name": "stdout",
     "output_type": "stream",
     "text": [
      "WELCOME!!!!\n",
      "Guess the Word: \n",
      "_   _ _ _ _   _ _   _ _ _ _ _\n",
      "\n"
     ]
    }
   ],
   "source": [
    "print(\"WELCOME!!!!\")\n",
    "print(\"Guess the Word: \")\n",
    "player1.show_underscore()\n",
    "print()"
   ]
  },
  {
   "cell_type": "code",
   "execution_count": 8,
   "metadata": {
    "scrolled": true
   },
   "outputs": [
    {
     "name": "stdout",
     "output_type": "stream",
     "text": [
      "Player 1 please enter your name: 1\n",
      "Player 2 please enter your name: 2\n",
      "Player 3 please enter your name: 3\n"
     ]
    }
   ],
   "source": [
    "player1.name = input('Player 1 please enter your name: ')\n",
    "player2.name = input('Player 2 please enter your name: ')\n",
    "player3.name = input('Player 3 please enter your name: ')"
   ]
  },
  {
   "cell_type": "code",
   "execution_count": 9,
   "metadata": {},
   "outputs": [
    {
     "name": "stdout",
     "output_type": "stream",
     "text": [
      "Game Begins:\n"
     ]
    }
   ],
   "source": [
    " print(\"Game Begins:\")"
   ]
  },
  {
   "cell_type": "code",
   "execution_count": 10,
   "metadata": {
    "scrolled": false
   },
   "outputs": [
    {
     "name": "stdout",
     "output_type": "stream",
     "text": [
      "ROUND 1 BEGINS!!!!\n",
      "=============================\n",
      "\n",
      "Player: 1        Score: 0\n",
      "\n",
      "Would you like to:\n",
      "1 Spin\n",
      "2 Solve\n",
      "Enter 1 for Spin or 2 for Solve: 1\n",
      "You choosed : Spin\n",
      "\n",
      "\n",
      "Spin Value = $900\n",
      "Your score = $0\n",
      "Count of _ is 12\n",
      "\n",
      "Guess a letter: S\n",
      "s\n",
      "['s']\n",
      "In chk_input s\n",
      "CORRECT GUESS!!!\n",
      "In display_str ['s']\n",
      "\n",
      "_   _ _ _ _   _ _   _ _ _ _ s\n",
      "s is there in a pile of coats 1 times\n",
      "\n",
      "Spin Value = $450\n",
      "===================\n",
      "Your score = $900\n",
      "Count of _ is 11\n",
      "\n",
      "Guess a letter: 2\n",
      "2\n",
      "['s', '2']\n",
      "In chk_input 2\n",
      "SADLY!! IN-CORRECT GUESS!!!\n",
      "YOU LOOSE YOUR TURN!!!\n",
      "YOUR SCORE: $900!!!\n",
      "\n",
      "_   _ _ _ _   _ _   _ _ _ _ s\n",
      "\n",
      "Player: 2        Score: 0\n",
      "\n",
      "Would you like to:\n",
      "1 Spin\n",
      "2 Solve\n",
      "Enter 1 for Spin or 2 for Solve: 2\n",
      "You choosed : Solve\n",
      "In display_str ['s', '2']\n",
      "\n",
      "_   _ _ _ _   _ _   _ _ _ _ s\n",
      "Guess the remaining 11 letters!!!\n",
      "Guess the word: A PILE OFCOATS\n",
      "IN-CORRECT GUESS!\n",
      "YOU LOOSE YOUR TURN!\n",
      "YOUR SCORE: $0!!!\n",
      "\n",
      "_   _ _ _ _   _ _   _ _ _ _ s\n",
      "\n",
      "Player: 3        Score: 0\n",
      "\n",
      "Would you like to:\n",
      "1 Spin\n",
      "2 Solve\n",
      "Enter 1 for Spin or 2 for Solve: 2\n",
      "You choosed : Solve\n",
      "In display_str ['s', '2']\n",
      "\n",
      "_   _ _ _ _   _ _   _ _ _ _ s\n",
      "Guess the remaining 11 letters!!!\n",
      "Guess the word: A PILE OF COATS\n",
      "IN-CORRECT GUESS!\n",
      "YOU LOOSE YOUR TURN!\n",
      "YOUR SCORE: $0!!!\n",
      "\n",
      "_   _ _ _ _   _ _   _ _ _ _ s\n",
      "ROUND 2 BEGINS!!!!\n",
      "=============================\n",
      "\n",
      "Player: 1        Score: 900\n",
      "\n",
      "Would you like to:\n",
      "1 Spin\n",
      "2 Solve\n",
      "Enter 1 for Spin or 2 for Solve: 2\n",
      "You choosed : Solve\n",
      "In display_str ['s', '2']\n",
      "\n",
      "_   _ _ _ _   _ _   _ _ _ _ s\n",
      "Guess the remaining 11 letters!!!\n",
      "Guess the word: a pile of coats\n",
      "CORRECT GUESS!\n",
      "YOUR SCORE: $11900!!!\n",
      "\n",
      "a   p i l e   o f   c o a t s\n"
     ]
    }
   ],
   "source": [
    "cnt=1\n",
    "while (player1.disp.count('_') !=0 and player2.disp.count('_') !=0 and player3.disp.count('_') !=0):\n",
    "    if (player2.disp.count('_') !=0 and player3.disp.count('_') !=0):\n",
    "        player1.disp = player3.disp\n",
    "        print(\"ROUND \"+str(cnt)+\" BEGINS!!!!\")\n",
    "        print(\"=============================\")\n",
    "        player1.puzzle_start()\n",
    "    if (player1.disp.count('_') !=0 and player3.disp.count('_') !=0):\n",
    "        player2.disp = player1.disp\n",
    "        player2.puzzle_start()\n",
    "    if (player1.disp.count('_') !=0 and player2.disp.count('_') !=0):\n",
    "        player3.disp = player2.disp\n",
    "        player3.puzzle_start()\n",
    "        cnt=cnt+1\n"
   ]
  },
  {
   "cell_type": "code",
   "execution_count": 11,
   "metadata": {
    "scrolled": true
   },
   "outputs": [
    {
     "name": "stdout",
     "output_type": "stream",
     "text": [
      "GAME ENDS!!! WORD GUESSED CORRECTLY!!\n",
      "HERE ARE THE SCORES:\n",
      "==========================================\n",
      "1 SCORE = $11900\n",
      "2 SCORE = $0\n",
      "3 SCORE = $0\n",
      "==========================================\n"
     ]
    }
   ],
   "source": [
    "end_game()"
   ]
  },
  {
   "cell_type": "code",
   "execution_count": 12,
   "metadata": {
    "scrolled": true
   },
   "outputs": [],
   "source": [
    "str = list(word)"
   ]
  },
  {
   "cell_type": "code",
   "execution_count": 13,
   "metadata": {
    "scrolled": true
   },
   "outputs": [
    {
     "name": "stdout",
     "output_type": "stream",
     "text": [
      "['A', ' ', 'P', 'i', 'l', 'e', ' ', 'O', 'f', ' ', 'C', 'o', 'a', 't', 's']\n"
     ]
    }
   ],
   "source": [
    "print(str)"
   ]
  },
  {
   "cell_type": "code",
   "execution_count": 14,
   "metadata": {
    "scrolled": true
   },
   "outputs": [],
   "source": [
    "l = ['a', 'n']"
   ]
  },
  {
   "cell_type": "code",
   "execution_count": 15,
   "metadata": {
    "scrolled": true
   },
   "outputs": [
    {
     "name": "stdout",
     "output_type": "stream",
     "text": [
      "_   _ _ _ _   _ _   _ _ _ _ _\n"
     ]
    }
   ],
   "source": [
    "s=[]\n",
    "for x in str:\n",
    "    if (x == \" \"):\n",
    "        s.append(x)\n",
    "    else:\n",
    "        s.append(\"_\")\n",
    "print(*s)\n"
   ]
  },
  {
   "cell_type": "code",
   "execution_count": 16,
   "metadata": {
    "scrolled": true
   },
   "outputs": [
    {
     "name": "stdout",
     "output_type": "stream",
     "text": [
      "A Pile Of Coats\n",
      "15\n",
      "15\n",
      "_   _ _ _ _   _ _   _ _ a _ s\n"
     ]
    }
   ],
   "source": [
    "l = ['a','s','c']\n",
    "print(word)\n",
    "arr1 = np.asarray(s)\n",
    "arr2 = np.asarray(list(word))\n",
    "print(len(arr1))\n",
    "print(len(arr2))\n",
    "for i in l:\n",
    "    c=0\n",
    "    while (c < len(arr1)):\n",
    "        if (arr2[c] == i):\n",
    "            arr1[c] = i\n",
    "        c=c+1\n",
    "print(*arr1.tolist())"
   ]
  },
  {
   "cell_type": "code",
   "execution_count": null,
   "metadata": {
    "scrolled": true
   },
   "outputs": [],
   "source": []
  },
  {
   "cell_type": "code",
   "execution_count": null,
   "metadata": {
    "scrolled": true
   },
   "outputs": [],
   "source": []
  }
 ],
 "metadata": {
  "kernelspec": {
   "display_name": "Python 3",
   "language": "python",
   "name": "python3"
  },
  "language_info": {
   "codemirror_mode": {
    "name": "ipython",
    "version": 3
   },
   "file_extension": ".py",
   "mimetype": "text/x-python",
   "name": "python",
   "nbconvert_exporter": "python",
   "pygments_lexer": "ipython3",
   "version": "3.7.1"
  }
 },
 "nbformat": 4,
 "nbformat_minor": 2
}
